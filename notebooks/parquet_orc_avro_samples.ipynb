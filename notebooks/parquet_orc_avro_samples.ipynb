{
 "cells": [
  {
   "cell_type": "markdown",
   "id": "e6414d07",
   "metadata": {},
   "source": [
    "## Create conda env with the same python version 3.13 than local installation to avoid having different python versions at driver VS executors"
   ]
  },
  {
   "cell_type": "code",
   "execution_count": 1,
   "id": "6eab0abd-0c88-4d2a-a4e3-2edf023f332e",
   "metadata": {},
   "outputs": [],
   "source": [
    "from pyspark.sql import SparkSession\n",
    "from pyspark.sql import functions"
   ]
  },
  {
   "cell_type": "markdown",
   "id": "30592cb7-809d-43ce-bc76-6565c671e847",
   "metadata": {},
   "source": [
    "### Create SparkSession"
   ]
  },
  {
   "cell_type": "code",
   "execution_count": null,
   "id": "6a9c22bb-75fe-4e52-801f-22cb02ab1072",
   "metadata": {},
   "outputs": [],
   "source": [
    "spark = SparkSession \\\n",
    "    .builder \\\n",
    "    .appName(\"Sample serialization formats\") \\\n",
    "    .config(\"spark.jars.packages\", \"org.apache.spark:spark-avro_2.12:3.5.0\") \\\n",
    "    .getOrCreate()\n"
   ]
  },
  {
   "cell_type": "markdown",
   "id": "68c3c87f-5cc0-4912-9247-da4438cf6a54",
   "metadata": {},
   "source": [
    "### Init data"
   ]
  },
  {
   "cell_type": "code",
   "execution_count": 3,
   "id": "6e7f8e75-f975-4023-a72c-995c09ad72c3",
   "metadata": {},
   "outputs": [],
   "source": [
    "data = [(\"Alice\", 25),(\"John\", 15),(\"Eva\", 35)]\n",
    "columns = [\"name\", \"age\"]\n",
    "df = spark.createDataFrame(data=data, schema=columns)"
   ]
  },
  {
   "cell_type": "markdown",
   "id": "745a5c6f-e09f-45d0-af7a-17a0279e6681",
   "metadata": {},
   "source": [
    "### Parquet"
   ]
  },
  {
   "cell_type": "code",
   "execution_count": null,
   "id": "f2c121d4-18e3-4285-83b1-d079dad17af0",
   "metadata": {
    "scrolled": true
   },
   "outputs": [],
   "source": [
    "# Writting\n",
    "df.write.parquet(path=\"sample.parquet\", mode='overwrite')\n",
    "\n",
    "# Reading\n",
    "parquet_df = spark.read.parquet(\"./sample.parquet\")\n",
    "parquet_df.show(truncate=False)"
   ]
  },
  {
   "cell_type": "markdown",
   "id": "2cffe6a4",
   "metadata": {},
   "source": [
    "### ORC"
   ]
  },
  {
   "cell_type": "code",
   "execution_count": null,
   "id": "1be237d7-507a-49f8-b332-54f7b6d9480d",
   "metadata": {},
   "outputs": [],
   "source": [
    "# Writing\n",
    "df.write.mode(\"overwrite\").orc(\"sample.orc\")\n",
    "\n",
    "# Reading\n",
    "orc_df = spark.read.orc(path=\"sample.orc\")\n",
    "orc_df.show(truncate=False)"
   ]
  },
  {
   "cell_type": "markdown",
   "id": "0c9062aa",
   "metadata": {},
   "source": [
    "### Avro"
   ]
  },
  {
   "cell_type": "code",
   "execution_count": null,
   "id": "15114e28-22bf-4969-b27d-fbaca526dbb6",
   "metadata": {},
   "outputs": [],
   "source": [
    "# Writing\n",
    "df.write.mode(\"overwrite\").format(\"avro\").save(\"sample.avro\")\n",
    "\n",
    "# Reading\n",
    "avro_df = spark.read.format(\"avro\").load(\"sample.avro\")\n",
    "avro_df.show(truncate=False)"
   ]
  }
 ],
 "metadata": {
  "kernelspec": {
   "display_name": "parquet_orc_avro",
   "language": "python",
   "name": "python3"
  },
  "language_info": {
   "codemirror_mode": {
    "name": "ipython",
    "version": 3
   },
   "file_extension": ".py",
   "mimetype": "text/x-python",
   "name": "python",
   "nbconvert_exporter": "python",
   "pygments_lexer": "ipython3",
   "version": "3.13.2"
  }
 },
 "nbformat": 4,
 "nbformat_minor": 5
}
